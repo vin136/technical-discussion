{
  "nbformat": 4,
  "nbformat_minor": 0,
  "metadata": {
    "colab": {
      "name": "Technical Discussion.ipynb",
      "provenance": [],
      "collapsed_sections": [],
      "authorship_tag": "ABX9TyN7P27jC6hEUOWsj6SaC3sL",
      "include_colab_link": true
    },
    "kernelspec": {
      "name": "python3",
      "display_name": "Python 3"
    },
    "language_info": {
      "name": "python"
    }
  },
  "cells": [
    {
      "cell_type": "markdown",
      "metadata": {
        "id": "view-in-github",
        "colab_type": "text"
      },
      "source": [
        "<a href=\"https://colab.research.google.com/github/vin136/technical-discussion/blob/main/Technical_Discussion.ipynb\" target=\"_parent\"><img src=\"https://colab.research.google.com/assets/colab-badge.svg\" alt=\"Open In Colab\"/></a>"
      ]
    },
    {
      "cell_type": "code",
      "metadata": {
        "id": "8KlNNXq7rv3h"
      },
      "source": [
        ""
      ],
      "execution_count": null,
      "outputs": []
    },
    {
      "cell_type": "markdown",
      "metadata": {
        "id": "_lrB4NWKr0Oh"
      },
      "source": [
        "You can do all sorts of markdown here."
      ]
    },
    {
      "cell_type": "code",
      "metadata": {
        "id": "PBT443sjr6Xf"
      },
      "source": [
        "def hello():\n",
        "  print('hello world')"
      ],
      "execution_count": null,
      "outputs": []
    },
    {
      "cell_type": "code",
      "metadata": {
        "colab": {
          "base_uri": "https://localhost:8080/"
        },
        "id": "TBoQHujSr-sa",
        "outputId": "efd1c43b-8dc2-4591-9a74-b04178595949"
      },
      "source": [
        "hello()"
      ],
      "execution_count": null,
      "outputs": [
        {
          "output_type": "stream",
          "text": [
            "hello world\n"
          ],
          "name": "stdout"
        }
      ]
    },
    {
      "cell_type": "code",
      "metadata": {
        "id": "6OdJmg93r_7N"
      },
      "source": [
        ""
      ],
      "execution_count": null,
      "outputs": []
    },
    {
      "cell_type": "markdown",
      "metadata": {
        "id": "2RGzqbv3sc11"
      },
      "source": [
        "let me update this and see what happens"
      ]
    },
    {
      "cell_type": "markdown",
      "metadata": {
        "id": "xWDGdIMlvuTz"
      },
      "source": [
        ""
      ]
    },
    {
      "cell_type": "markdown",
      "metadata": {
        "id": "D-gwzlTGvwdJ"
      },
      "source": [
        "adding some more to the thing\n"
      ]
    },
    {
      "cell_type": "markdown",
      "metadata": {
        "id": "SIUrLBRBvmgt"
      },
      "source": [
        ""
      ]
    },
    {
      "cell_type": "code",
      "metadata": {
        "id": "JyTHUGyBvkHD"
      },
      "source": [
        ""
      ],
      "execution_count": null,
      "outputs": []
    }
  ]
}